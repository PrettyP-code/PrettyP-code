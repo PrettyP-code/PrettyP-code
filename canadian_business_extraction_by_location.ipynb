{
  "cells": [
    {
      "cell_type": "markdown",
      "metadata": {
        "id": "view-in-github",
        "colab_type": "text"
      },
      "source": [
        "<a href=\"https://colab.research.google.com/github/pelumiogunremu/Pelumi-Ogunremu/blob/main/canadian_business_extraction_by_location.ipynb\" target=\"_parent\"><img src=\"https://colab.research.google.com/assets/colab-badge.svg\" alt=\"Open In Colab\"/></a>"
      ]
    },
    {
      "cell_type": "markdown",
      "id": "6f6c74ad",
      "metadata": {
        "id": "6f6c74ad"
      },
      "source": [
        "## Project Outline\n",
        "\n",
        "    - https://www.yellowpages.ca/locations/ is the website to be scraped\n",
        "    - Request for the webpage content using the requests library\n",
        "    - Parse the webpage content using the BeautifulSoup from the bs4 library\n",
        "    - Get the tags using the tag name and class selector\n",
        "    - Grab all the information needed from the tags and store each in a separate list\n",
        "    - Import them into the dataframe and export them as a csv file\n",
        "    - Repeat the steps for the provinces, locations, business categories, sub business categories,\n",
        "    sub sub business categories and the businesses\n"
      ]
    },
    {
      "cell_type": "code",
      "execution_count": 45,
      "id": "2e0e821a",
      "metadata": {
        "id": "2e0e821a"
      },
      "outputs": [],
      "source": [
        "import concurrent.futures\n",
        "import requests\n",
        "from bs4 import BeautifulSoup\n",
        "import pandas as pd"
      ]
    },
    {
      "cell_type": "code",
      "execution_count": 48,
      "id": "4cd1b7f3-428c-4583-9850-8d1d5f7dbc27",
      "metadata": {
        "id": "4cd1b7f3-428c-4583-9850-8d1d5f7dbc27"
      },
      "outputs": [],
      "source": [
        "# Functional Programs\n",
        "\n",
        "def get_tag_contents(webpage_url, tag_name, find_tag, class_selector):\n",
        "    \"\"\"\n",
        "    requests for the html content of the web page.\n",
        "    \n",
        "    parse the requested web page content into its component parts\n",
        "    for easy extraction.\n",
        "    \n",
        "    locate all the tags with the given tag name and class selector\n",
        "    \n",
        "    returns:\n",
        "    extract the text(name) from each tag and append it to the \n",
        "    name texts list and\n",
        "    extract the link from each tag and store it in the \n",
        "    links list\n",
        "    \"\"\"\n",
        "    \n",
        "    soup = BeautifulSoup(requests.get(webpage_url).text, \"html.parser\")\n",
        "    \n",
        "    tags = [\n",
        "        tag.find(find_tag, href=True) \n",
        "        for tag in soup.find_all(tag_name, class_=class_selector)\n",
        "    ]\n",
        "    \n",
        "    tag_texts = [tag.text for tag in tags]\n",
        "    tag_links = [f\"https://yellowpages.ca{tag['href']}\" for tag in tags]\n",
        "    \n",
        "    return tag_texts, tag_links\n",
        "\n",
        "def get_tags_contents(webpage_urls, tag_name, find_tag, class_selector):\n",
        "    \"\"\"\n",
        "    requests for the html content of the web page.\n",
        "    \n",
        "    store the webpage contents in a list\n",
        "    \n",
        "    parse the webpage contents\n",
        "    \n",
        "    store the parsed contents in a list\n",
        "\n",
        "    extract all the texts and links from the tags at once\n",
        "    \"\"\"\n",
        "    \n",
        "    web_contents = [\n",
        "        webpage_content \n",
        "        for webpage_content in (\n",
        "            requests.get(url).text for url in webpage_urls\n",
        "        )\n",
        "    ]\n",
        "\n",
        "    parsed_contents = [\n",
        "        parsed_content \n",
        "        for parsed_content in (\n",
        "            BeautifulSoup(content, \"html.parser\")\n",
        "            for content in web_contents\n",
        "        )\n",
        "    ]\n",
        "\n",
        "    tags_texts = [\n",
        "                  [\n",
        "                   tag.text for tag in [\n",
        "                   tag.find(find_tag, href=True)\n",
        "                  for tag in parsed_content.find_all(\n",
        "                      tag_name, class_=class_selector\n",
        "                      )\n",
        "                  ]\n",
        "                ]\n",
        "              for parsed_content in parsed_contents\n",
        "     ]\n",
        "\n",
        "    tags_links = [\n",
        "                  [\n",
        "                   f\"https://yellowpages.ca{tag['href']}\" for tag in [\n",
        "                   tag.find(find_tag, href=True)\n",
        "                  for tag in parsed_content.find_all(\n",
        "                      tag_name, class_=class_selector\n",
        "                      )                                                 \n",
        "                  ]\n",
        "                ]\n",
        "              for parsed_content in parsed_contents \n",
        "    ]\n",
        "\n",
        "    return tags_texts, tags_links\n",
        "\n",
        "def for_df(contents):\n",
        "  \"\"\"\n",
        "  adjust for the dataframe\n",
        "  \"\"\"\n",
        "  list(\n",
        "      set(\n",
        "          [i for link in ypca_bus_cat for i in link]\n",
        "      )\n",
        "  )\n",
        "  \n",
        "def get_tags_texts(webpage_urls):\n",
        "    \"\"\"\n",
        "    requests for the html content of the web page.\n",
        "    \n",
        "    store the webpage contents in a list\n",
        "    \n",
        "    parse the webpage contents\n",
        "    \n",
        "    store the parsed contents in a list\n",
        "\n",
        "    extract needed texts from the tags at once\n",
        "    \"\"\"\n",
        "    \n",
        "    web_contents = [\n",
        "        webpage_content \n",
        "        for webpage_content in (\n",
        "            requests.get(url).text for url in webpage_urls\n",
        "        )\n",
        "    ]\n",
        "\n",
        "    parsed_contents = [\n",
        "        parsed_content \n",
        "        for parsed_content in (\n",
        "            BeautifulSoup(content, \"html.parser\")\n",
        "            for content in web_contents\n",
        "        )\n",
        "    ]\n",
        "\n",
        "    tags_texts_1 = [\n",
        "                  [\n",
        "                   tag.text for tag in [\n",
        "                   tag.find(\"a\", href=True)\n",
        "                  for tag in parsed_content.find_all(\n",
        "                      \"h3\", class_=\"listing__name, jsMapBubbleName\"\n",
        "                      )\n",
        "                  ]\n",
        "                ]\n",
        "              for parsed_content in parsed_contents\n",
        "     ]\n",
        "     \n",
        "    tags_texts_2 = [\n",
        "                [\n",
        "                  tag.text for tag in [\n",
        "                  tag.find(\"a\", href=True)\n",
        "                for tag in parsed_content.find_all(\n",
        "                    \"div\", class_=\"listing__headings\"\n",
        "                    )\n",
        "                ]\n",
        "              ]\n",
        "            for parsed_content in parsed_contents\n",
        "    ]\n",
        "\n",
        "    tags_texts_3 = [\n",
        "                [\n",
        "                  tag.text for tag in [\n",
        "                  tag.find(\"div\", href=True)\n",
        "                for tag in parsed_content.find_all(\n",
        "                    \"span\", class_=\"listing__address address mainLocal\"\n",
        "                    )\n",
        "                ]\n",
        "              ]\n",
        "            for parsed_content in parsed_contents\n",
        "    ]\n",
        "\n",
        "    return tags_texts_1, tags_texts_2, tags_texts_3\n",
        "     \n",
        "#    clean the name\n",
        "# [name.replace('\"', '') for name in content_names]"
      ]
    },
    {
      "cell_type": "markdown",
      "id": "ac5baf60",
      "metadata": {
        "id": "ac5baf60"
      },
      "source": [
        "### Canadian Provinces Extraction"
      ]
    },
    {
      "cell_type": "code",
      "execution_count": 49,
      "id": "18f31a5a-036d-4ab2-babe-2e9ca41f0e74",
      "metadata": {
        "id": "18f31a5a-036d-4ab2-babe-2e9ca41f0e74"
      },
      "outputs": [],
      "source": [
        "ypca_url = \"https://www.yellowpages.ca/locations/\"\n",
        "# ypca_prov, ypca_prov_links = get_tag_contents(ypca_url, \"h3\", \"a\", \"categories-title catTitle\")\n",
        "\n",
        "ypca_prov_df_index = list(range(1, len(ypca_prov) + 1))\n",
        "ypca_prov_df = pd.DataFrame({\"Provinces\": ypca_prov}, index=ypca_prov_df_index)\n",
        "\n",
        "# ypca_prov_df.to_csv(\"canada_provinces.csv\", index=False)"
      ]
    },
    {
      "cell_type": "markdown",
      "id": "d3b9f7c7",
      "metadata": {
        "id": "d3b9f7c7"
      },
      "source": [
        "### Canadian Locations Extraction"
      ]
    },
    {
      "cell_type": "code",
      "execution_count": 52,
      "id": "9db407b7",
      "metadata": {
        "id": "9db407b7"
      },
      "outputs": [],
      "source": [
        "# ypca_loc, ypca_loc_links = get_tags_contents(ypca_prov_links, \"li\", \"a\", \"resp-list\")\n",
        "\n",
        "ypca_prov_columns = [\"Location \" + str(num + 1) for num in range(113)]\n",
        "ypca_prov_locs_df = pd.DataFrame(ypca_loc, index=ypca_prov, columns=ypca_prov_columns)\n",
        "\n",
        "# ypca_prov_locs_df.to_csv(\"canada_locations.csv\")"
      ]
    },
    {
      "cell_type": "markdown",
      "id": "ff4105e6",
      "metadata": {
        "id": "ff4105e6"
      },
      "source": [
        "### Canadian Business Categories Extraction"
      ]
    },
    {
      "cell_type": "code",
      "execution_count": 55,
      "id": "ca58685e",
      "metadata": {
        "id": "ca58685e"
      },
      "outputs": [],
      "source": [
        "# ypca_loc_urls  = [i for link in ypca_loc_links for i in link]\n",
        "# ypca_bus_cat, ypca_bus_cat_links = get_tags_contents(ypca_loc_urls, \"h3\", \"a\", \"categories-title catTitle\")\n",
        "\n",
        "# ypca_bus_cat0 = for_df(ypca_bus_cat)\n",
        "# ypca_bus_cat_df_index = list(range(1, len(ypca_bus_cat0) + 1))\n",
        "# ypca_bus_cat_df = pd.DataFrame({\"Business Categories\": ypca_bus_cat0}, index=ypca_bus_cat_df_index)\n",
        "\n",
        "# ypca_bus_cat_df.to_csv(\"canada_business_categories.csv\", index=False)"
      ]
    },
    {
      "cell_type": "markdown",
      "id": "78463468",
      "metadata": {
        "id": "78463468"
      },
      "source": [
        "### Canadian Sub Business Categories Extraction"
      ]
    },
    {
      "cell_type": "code",
      "execution_count": 32,
      "id": "b388ddf0",
      "metadata": {
        "id": "b388ddf0"
      },
      "outputs": [],
      "source": [
        "# ypca_bus_cat_urls  = [i for link in ypca_bus_cat_links for i in link]\n",
        "# ypca_subbus_cat, ypca_subbus_cat_links = get_tags_contents(ypca_bus_cat_urls, \"h3\", \"a\", \"categories-title catTitle\")\n",
        "\n",
        "ypca_subbus_cat0 = for_df(ypca_subbus_cat)\n",
        "ypca_subbus_cat_df_index = list(range(1, len(ypca_subbus_cat0) + 1))\n",
        "ypca_subbus_cat_df = pd.DataFrame({\"Business Sub Categories\": ypca_subbus_cat0}, index=ypca_subbus_cat_df_index)\n",
        "\n",
        "# ypca_subbus_cat_df.to_csv(\"canada_subbusiness_categories.csv\", index=False)"
      ]
    },
    {
      "cell_type": "markdown",
      "id": "2356db30",
      "metadata": {
        "id": "2356db30"
      },
      "source": [
        "### Canadian Sub Sub Business Categories Extraction"
      ]
    },
    {
      "cell_type": "code",
      "execution_count": null,
      "id": "010b5bc3",
      "metadata": {
        "id": "010b5bc3"
      },
      "outputs": [],
      "source": [
        "# ypca_subbus_cat_urls = [i for link in ypca_subbus_cat_links for i in link]\n",
        "# ypca_subsubbus_cat, ypca_subsubbus_cat_links = get_tags_contents(ypca_subbus_cat_urls, \"li\", \"a\", \"resp-list\")\n",
        "\n",
        "ypca_subsubbus_cat0 = for_df(ypca_subsubbus_cat)\n",
        "ypca_subsubbus_cat_df_index = list(range(1, len(ypca_subsubbus_cat0) + 1))\n",
        "ypca_subsubbus_cat_df = pd.DataFrame({\"Business Sub Sub Categories\": ypca_subsubbus_cat0}, index=ypca_subsubbus_cat_df_index)\n",
        "\n",
        "# ypca_subsubbus_cat_df.to_csv(\"canada_sub_subbusiness_categories.csv\", index=False)"
      ]
    },
    {
      "cell_type": "markdown",
      "id": "551c2ef8",
      "metadata": {
        "id": "551c2ef8"
      },
      "source": [
        "### Canadian Businesses Extraction"
      ]
    },
    {
      "cell_type": "code",
      "execution_count": null,
      "id": "70c52a01",
      "metadata": {
        "id": "70c52a01"
      },
      "outputs": [],
      "source": [
        "# ypca_bus_urls  = [i for link in ypca_subsubbus_cat_links for i in link]\n",
        "# ypca_bus, ypca_bus_type, ypca_bus_ad = get_all_texts(ypca_bus_urls)\n",
        "\n",
        "ypca_bus_df_index = list(range(1, len(ypca_bus) + 1))\n",
        "ypca_bus_df = pd.DataFrame(\n",
        "                             {\"Business name\": ypca_bus,\n",
        "                              \"Business type\": ypca_bus_type,\n",
        "                              \"Business address\": ypca_bus_ad}, index=ypca_bus_df_index\n",
        "                           )\n",
        "\n",
        "# ypca_bus_cat_df.to_csv(\"canada_businesses.csv\", index=False)"
      ]
    }
  ],
  "metadata": {
    "kernelspec": {
      "display_name": "Python 3",
      "language": "python",
      "name": "python3"
    },
    "language_info": {
      "codemirror_mode": {
        "name": "ipython",
        "version": 3
      },
      "file_extension": ".py",
      "mimetype": "text/x-python",
      "name": "python",
      "nbconvert_exporter": "python",
      "pygments_lexer": "ipython3",
      "version": "3.8.8"
    },
    "colab": {
      "name": "canadian_business_extraction_by_location.ipynb",
      "provenance": [],
      "collapsed_sections": [],
      "include_colab_link": true
    }
  },
  "nbformat": 4,
  "nbformat_minor": 5
}